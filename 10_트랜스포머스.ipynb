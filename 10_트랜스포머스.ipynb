{
 "cells": [
  {
   "cell_type": "code",
   "execution_count": 1,
   "id": "45759e40",
   "metadata": {},
   "outputs": [
    {
     "name": "stdout",
     "output_type": "stream",
     "text": [
      "torch: 2.6.0+cu124 cuda: 12.4 is_available: True\n"
     ]
    }
   ],
   "source": [
    "import torch\n",
    "print(\"torch:\", torch.__version__, \n",
    "      \"cuda:\", torch.version.cuda, \n",
    "      \"is_available:\", \n",
    "      torch.cuda.is_available())"
   ]
  },
  {
   "cell_type": "code",
   "execution_count": 3,
   "id": "510f0e8f",
   "metadata": {},
   "outputs": [
    {
     "data": {
      "text/plain": [
       "'4.55.4'"
      ]
     },
     "execution_count": 3,
     "metadata": {},
     "output_type": "execute_result"
    }
   ],
   "source": [
    "import transformers\n",
    "transformers.__version__"
   ]
  },
  {
   "cell_type": "code",
   "execution_count": 4,
   "id": "c1378c0f",
   "metadata": {},
   "outputs": [],
   "source": [
    "# 예시 영화 평\n",
    "reviews = [\n",
    "    \"This movie was absolutely fantastic! The acting, the plot, everything was perfect.\",\n",
    "    \"I did not enjoy this movie at all. The story was predictable and the acting was terrible.\",\n",
    "    \"A solid performance by the lead actor, but the plot could have been better.\",\n",
    "    \"What a waste of time! I can't believe I sat through the whole movie.\"\n",
    "]\n"
   ]
  },
  {
   "cell_type": "code",
   "execution_count": 6,
   "id": "157f9a7c",
   "metadata": {},
   "outputs": [
    {
     "name": "stderr",
     "output_type": "stream",
     "text": [
      "Device set to use cuda:0\n"
     ]
    },
    {
     "data": {
      "text/plain": [
       "<transformers.pipelines.text_classification.TextClassificationPipeline at 0x2befc01b730>"
      ]
     },
     "execution_count": 6,
     "metadata": {},
     "output_type": "execute_result"
    }
   ],
   "source": [
    "# 감성분석\n",
    "from transformers import pipeline\n",
    "senti_anal = pipeline(task='sentiment-analysis', model='distilbert-base-uncased-finetuned-sst-2-english')\n",
    "senti_anal"
   ]
  },
  {
   "cell_type": "code",
   "execution_count": 12,
   "id": "d6b9268c",
   "metadata": {},
   "outputs": [
    {
     "data": {
      "text/plain": [
       "[{'label': 'POSITIVE', 'score': 0.9998705387115479},\n",
       " {'label': 'NEGATIVE', 'score': 0.9996206760406494},\n",
       " {'label': 'POSITIVE', 'score': 0.6785107254981995},\n",
       " {'label': 'NEGATIVE', 'score': 0.999803364276886}]"
      ]
     },
     "execution_count": 12,
     "metadata": {},
     "output_type": "execute_result"
    }
   ],
   "source": [
    "results = senti_anal(reviews)\n",
    "results"
   ]
  },
  {
   "cell_type": "code",
   "execution_count": 13,
   "id": "ccc88bef",
   "metadata": {},
   "outputs": [
    {
     "name": "stdout",
     "output_type": "stream",
     "text": [
      "review: This movie was absolutely fantastic! The acting, the plot, everything was perfect. \n",
      " Sentiment: POSITIVE, score: 1.00\n",
      "\n",
      "review: I did not enjoy this movie at all. The story was predictable and the acting was terrible. \n",
      " Sentiment: NEGATIVE, score: 1.00\n",
      "\n",
      "review: A solid performance by the lead actor, but the plot could have been better. \n",
      " Sentiment: POSITIVE, score: 0.68\n",
      "\n",
      "review: What a waste of time! I can't believe I sat through the whole movie. \n",
      " Sentiment: NEGATIVE, score: 1.00\n",
      "\n"
     ]
    }
   ],
   "source": [
    "for review, result in zip(reviews, results):\n",
    "  print(f\"review: {review} \\n Sentiment: {result['label']}, score: {result['score']:.2f}\\n\")"
   ]
  }
 ],
 "metadata": {
  "kernelspec": {
   "display_name": "dl_llm_env",
   "language": "python",
   "name": "python3"
  },
  "language_info": {
   "codemirror_mode": {
    "name": "ipython",
    "version": 3
   },
   "file_extension": ".py",
   "mimetype": "text/x-python",
   "name": "python",
   "nbconvert_exporter": "python",
   "pygments_lexer": "ipython3",
   "version": "3.10.18"
  }
 },
 "nbformat": 4,
 "nbformat_minor": 5
}
