{
 "cells": [
  {
   "cell_type": "code",
   "execution_count": 1,
   "id": "45759e40",
   "metadata": {},
   "outputs": [
    {
     "name": "stdout",
     "output_type": "stream",
     "text": [
      "torch: 2.6.0+cu124 cuda: 12.4 is_available: True\n"
     ]
    }
   ],
   "source": [
    "import torch\n",
    "print(\"torch:\", torch.__version__, \n",
    "      \"cuda:\", torch.version.cuda, \n",
    "      \"is_available:\", \n",
    "      torch.cuda.is_available())"
   ]
  },
  {
   "cell_type": "code",
   "execution_count": 3,
   "id": "510f0e8f",
   "metadata": {},
   "outputs": [
    {
     "data": {
      "text/plain": [
       "'4.55.4'"
      ]
     },
     "execution_count": 3,
     "metadata": {},
     "output_type": "execute_result"
    }
   ],
   "source": [
    "import transformers\n",
    "transformers.__version__"
   ]
  },
  {
   "cell_type": "code",
   "execution_count": 4,
   "id": "c1378c0f",
   "metadata": {},
   "outputs": [],
   "source": [
    "# 예시 영화 평\n",
    "reviews = [\n",
    "    \"This movie was absolutely fantastic! The acting, the plot, everything was perfect.\",\n",
    "    \"I did not enjoy this movie at all. The story was predictable and the acting was terrible.\",\n",
    "    \"A solid performance by the lead actor, but the plot could have been better.\",\n",
    "    \"What a waste of time! I can't believe I sat through the whole movie.\"\n",
    "]\n"
   ]
  }
 ],
 "metadata": {
  "kernelspec": {
   "display_name": "dl_llm_env",
   "language": "python",
   "name": "python3"
  },
  "language_info": {
   "codemirror_mode": {
    "name": "ipython",
    "version": 3
   },
   "file_extension": ".py",
   "mimetype": "text/x-python",
   "name": "python",
   "nbconvert_exporter": "python",
   "pygments_lexer": "ipython3",
   "version": "3.10.18"
  }
 },
 "nbformat": 4,
 "nbformat_minor": 5
}
