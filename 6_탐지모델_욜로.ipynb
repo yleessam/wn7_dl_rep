{
 "cells": [
  {
   "cell_type": "markdown",
   "id": "8aae0681",
   "metadata": {},
   "source": [
    "# 모델 구조 + 가중치"
   ]
  },
  {
   "cell_type": "code",
   "execution_count": null,
   "id": "b49a13e4",
   "metadata": {},
   "outputs": [],
   "source": [
    "from ultralytics import YOLO\n",
    "\n",
    "model = YOLO('yolov8n.pt')\n",
    "data_path = './datasets/data.yaml'\n",
    "model.train(data=data_path, epochs=5, imgsz=640)"
   ]
  },
  {
   "cell_type": "code",
   "execution_count": null,
   "id": "a3bf933d",
   "metadata": {},
   "outputs": [],
   "source": [
    "result = model.predict('sample.png')\n",
    "result[0].show()"
   ]
  },
  {
   "cell_type": "code",
   "execution_count": null,
   "id": "9d6a06e0",
   "metadata": {},
   "outputs": [],
   "source": [
    "model = YOLO('runs\\detect\\train\\weights\\best.pt')\n",
    "data_path = './datasets/data.yaml'\n",
    "metrics = model.val(data=data_path)\n",
    "metrics"
   ]
  },
  {
   "cell_type": "code",
   "execution_count": null,
   "id": "806b28c4",
   "metadata": {},
   "outputs": [],
   "source": [
    "# yolov8n.pt, best.pt 의 성능 비교, sample.png"
   ]
  },
  {
   "cell_type": "code",
   "execution_count": null,
   "id": "f41cd96b",
   "metadata": {},
   "outputs": [],
   "source": [
    "# best_parameters.yaml"
   ]
  },
  {
   "cell_type": "code",
   "execution_count": 1,
   "id": "b2b47f06",
   "metadata": {},
   "outputs": [
    {
     "name": "stderr",
     "output_type": "stream",
     "text": [
      "c:\\Users\\Admin\\miniconda3\\envs\\dl_llm_env\\lib\\site-packages\\tqdm\\auto.py:21: TqdmWarning: IProgress not found. Please update jupyter and ipywidgets. See https://ipywidgets.readthedocs.io/en/stable/user_install.html\n",
      "  from .autonotebook import tqdm as notebook_tqdm\n"
     ]
    }
   ],
   "source": [
    "import transformers"
   ]
  }
 ],
 "metadata": {
  "kernelspec": {
   "display_name": "dl_llm_env",
   "language": "python",
   "name": "python3"
  },
  "language_info": {
   "codemirror_mode": {
    "name": "ipython",
    "version": 3
   },
   "file_extension": ".py",
   "mimetype": "text/x-python",
   "name": "python",
   "nbconvert_exporter": "python",
   "pygments_lexer": "ipython3",
   "version": "3.10.18"
  }
 },
 "nbformat": 4,
 "nbformat_minor": 5
}
