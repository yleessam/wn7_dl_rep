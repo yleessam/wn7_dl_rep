{
 "cells": [
  {
   "cell_type": "markdown",
   "id": "0415a6bb",
   "metadata": {},
   "source": [
    "# 가상환경 torch_cuda_yolo_env\n",
    "# ylee (dl_llm_env)"
   ]
  },
  {
   "cell_type": "markdown",
   "id": "796bdc6f",
   "metadata": {},
   "source": [
    "# 추론 : 배포한 공유모델로 객체감지 "
   ]
  },
  {
   "cell_type": "code",
   "execution_count": 1,
   "id": "b709ddca",
   "metadata": {},
   "outputs": [
    {
     "name": "stdout",
     "output_type": "stream",
     "text": [
      "torch: 2.6.0+cu124 cuda: 12.4 is_available: True\n"
     ]
    }
   ],
   "source": [
    "import torch\n",
    "print(\"torch:\", torch.__version__, \n",
    "      \"cuda:\", torch.version.cuda, \n",
    "      \"is_available:\", \n",
    "      torch.cuda.is_available())"
   ]
  },
  {
   "cell_type": "code",
   "execution_count": 6,
   "id": "b62ab190",
   "metadata": {},
   "outputs": [],
   "source": [
    "import os\n",
    "from dotenv import load_dotenv\n",
    "loaded = load_dotenv()\n",
    "#os.getenv('ROBOFLOW_API_KEY')"
   ]
  },
  {
   "cell_type": "code",
   "execution_count": 3,
   "id": "50272de9",
   "metadata": {},
   "outputs": [
    {
     "name": "stderr",
     "output_type": "stream",
     "text": [
      "TqdmWarning: IProgress not found. Please update jupyter and ipywidgets. See https://ipywidgets.readthedocs.io/en/stable/user_install.html\n"
     ]
    },
    {
     "data": {
      "text/plain": [
       "<inference_sdk.http.client.InferenceHTTPClient at 0x225f9f8a4d0>"
      ]
     },
     "execution_count": 3,
     "metadata": {},
     "output_type": "execute_result"
    }
   ],
   "source": [
    "from inference_sdk import InferenceHTTPClient\n",
    "CLIENT = InferenceHTTPClient(\n",
    "  api_url= 'https://detect.roboflow.com',\n",
    "  api_key= os.getenv('ROBOFLOW_API_KEY')\n",
    ")\n",
    "CLIENT"
   ]
  },
  {
   "cell_type": "code",
   "execution_count": 4,
   "id": "88cc3400",
   "metadata": {},
   "outputs": [
    {
     "data": {
      "text/plain": [
       "{'inference_id': 'd056cba7-ef90-4d9b-a8ce-f68c4453324c',\n",
       " 'time': 0.037412603000120725,\n",
       " 'image': {'width': 761, 'height': 568},\n",
       " 'predictions': [{'x': 526.0,\n",
       "   'y': 445.0,\n",
       "   'width': 204.0,\n",
       "   'height': 198.0,\n",
       "   'confidence': 0.9348104596138,\n",
       "   'class': 'Rock',\n",
       "   'class_id': 1,\n",
       "   'detection_id': 'b8bfe293-3a74-4c16-b18f-2c4778c1da53'},\n",
       "  {'x': 529.0,\n",
       "   'y': 158.5,\n",
       "   'width': 274.0,\n",
       "   'height': 251.0,\n",
       "   'confidence': 0.6367993354797363,\n",
       "   'class': 'Scissors',\n",
       "   'class_id': 2,\n",
       "   'detection_id': '24dd59f8-df0c-4e8e-a892-7a6dd027c230'},\n",
       "  {'x': 190.0,\n",
       "   'y': 162.0,\n",
       "   'width': 138.0,\n",
       "   'height': 138.0,\n",
       "   'confidence': 0.5825656056404114,\n",
       "   'class': 'Rock',\n",
       "   'class_id': 1,\n",
       "   'detection_id': '02958147-fb6c-4f7c-a507-990af2c598ca'},\n",
       "  {'x': 240.0,\n",
       "   'y': 428.5,\n",
       "   'width': 276.0,\n",
       "   'height': 253.0,\n",
       "   'confidence': 0.4879671037197113,\n",
       "   'class': 'Scissors',\n",
       "   'class_id': 2,\n",
       "   'detection_id': 'aa57a423-0b79-4db6-8592-1a771c2246e3'}]}"
      ]
     },
     "execution_count": 4,
     "metadata": {},
     "output_type": "execute_result"
    }
   ],
   "source": [
    "result = CLIENT.infer('sample.png', model_id='rock-paper-scissors-sxsw/14')\n",
    "result"
   ]
  },
  {
   "cell_type": "code",
   "execution_count": 8,
   "id": "d6d88bc3",
   "metadata": {},
   "outputs": [
    {
     "name": "stdout",
     "output_type": "stream",
     "text": [
      "526.0 445.0 204.0 198.0 0.9348104596138 Rock\n",
      "529.0 158.5 274.0 251.0 0.6367993354797363 Scissors\n",
      "190.0 162.0 138.0 138.0 0.5825656056404114 Rock\n",
      "240.0 428.5 276.0 253.0 0.4879671037197113 Scissors\n"
     ]
    }
   ],
   "source": [
    "import cv2\n",
    "img = cv2.imread('sample.png')\n",
    "\n",
    "for pred in result['predictions']:\n",
    "  x = pred['x']\n",
    "  y = pred['y']\n",
    "  width = pred['width']\n",
    "  height = pred['height']\n",
    "  conf = pred['confidence']\n",
    "  obj_class = pred['class']\n",
    "  \n",
    "  x1, y1 = int(x-width/2), int(y-height/2)\n",
    "  x2, y2 = int(x+width/2), int(y+height/2)\n",
    "  cv2.rectangle(img, (x1,y1), (x2, y2), (0,0,255), 2)\n",
    "  cv2.putText(img, f'{obj_class} {conf:.4f}', (x1,y1), cv2.FONT_HERSHEY_PLAIN, 2, (0,0,255))\n",
    "\n",
    "  print(x,y,width,height,conf,obj_class)\n",
    "  \n",
    "cv2.imshow('image', img)\n",
    "cv2.waitKey()\n",
    "cv2.destroyAllWindows()"
   ]
  },
  {
   "cell_type": "code",
   "execution_count": null,
   "id": "8fbfb43f",
   "metadata": {},
   "outputs": [],
   "source": [
    "import cv2\n",
    "filename = 'sample.png'\n",
    "cv2.imread(filename)"
   ]
  },
  {
   "cell_type": "code",
   "execution_count": 10,
   "id": "900c215f",
   "metadata": {},
   "outputs": [
    {
     "data": {
      "text/plain": [
       "{'inference_id': 'cf0be52d-1f66-4c85-8965-b944a14ccd2e',\n",
       " 'time': 0.030993935000424244,\n",
       " 'image': {'width': 416, 'height': 416},\n",
       " 'predictions': []}"
      ]
     },
     "execution_count": 10,
     "metadata": {},
     "output_type": "execute_result"
    }
   ],
   "source": [
    "result = CLIENT.infer('mnist/000001.jpg', model_id='numbers-ldmqq/3')\n",
    "result"
   ]
  },
  {
   "cell_type": "markdown",
   "id": "be2b5c6b",
   "metadata": {},
   "source": [
    "# model 가져오기"
   ]
  },
  {
   "cell_type": "code",
   "execution_count": 11,
   "id": "f83793e0",
   "metadata": {},
   "outputs": [
    {
     "name": "stdout",
     "output_type": "stream",
     "text": [
      "loading Roboflow workspace...\n",
      "loading Roboflow project...\n"
     ]
    },
    {
     "data": {
      "text/plain": [
       "<roboflow.models.object_detection.ObjectDetectionModel at 0x225ffa45b10>"
      ]
     },
     "execution_count": 11,
     "metadata": {},
     "output_type": "execute_result"
    }
   ],
   "source": [
    "from roboflow import Roboflow\n",
    "import cv2\n",
    "rf = Roboflow(api_key=os.getenv('ROBOFLOW_API_KEY'))\n",
    "project = rf.workspace().project('numbers-yt0h2')\n",
    "numbers_model = project.version(2).model\n",
    "numbers_model"
   ]
  }
 ],
 "metadata": {
  "kernelspec": {
   "display_name": "dl_llm_env",
   "language": "python",
   "name": "python3"
  },
  "language_info": {
   "codemirror_mode": {
    "name": "ipython",
    "version": 3
   },
   "file_extension": ".py",
   "mimetype": "text/x-python",
   "name": "python",
   "nbconvert_exporter": "python",
   "pygments_lexer": "ipython3",
   "version": "3.10.18"
  }
 },
 "nbformat": 4,
 "nbformat_minor": 5
}
