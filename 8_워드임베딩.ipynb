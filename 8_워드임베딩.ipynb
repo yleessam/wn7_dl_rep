{
 "cells": [
  {
   "cell_type": "code",
   "execution_count": 1,
   "id": "0678e649",
   "metadata": {},
   "outputs": [
    {
     "data": {
      "text/plain": [
       "['John',\n",
       " 'likes',\n",
       " 'to',\n",
       " 'watch',\n",
       " 'movies',\n",
       " 'Mary',\n",
       " 'likes',\n",
       " 'movies',\n",
       " 'too',\n",
       " 'Mary',\n",
       " 'also',\n",
       " 'likes',\n",
       " 'to',\n",
       " 'watch',\n",
       " 'football',\n",
       " 'games']"
      ]
     },
     "execution_count": 1,
     "metadata": {},
     "output_type": "execute_result"
    }
   ],
   "source": [
    "text = \"John likes to watch movies. Mary likes movies too.\\\n",
    " Mary also likes to watch football games.\"\n",
    "words = text.replace('.', '').split()\n",
    "words"
   ]
  },
  {
   "cell_type": "code",
   "execution_count": 3,
   "id": "5a052e33",
   "metadata": {},
   "outputs": [
    {
     "data": {
      "text/plain": [
       "(array(['John', 'Mary', 'also', 'football', 'games', 'likes', 'movies',\n",
       "        'to', 'too', 'watch'], dtype='<U8'),\n",
       " array([1, 2, 1, 1, 1, 3, 2, 2, 1, 2]))"
      ]
     },
     "execution_count": 3,
     "metadata": {},
     "output_type": "execute_result"
    }
   ],
   "source": [
    "import numpy as np\n",
    "word_count = np.unique(words, return_counts=True)\n",
    "word_count"
   ]
  },
  {
   "cell_type": "code",
   "execution_count": 4,
   "id": "638c8f24",
   "metadata": {},
   "outputs": [
    {
     "data": {
      "text/plain": [
       "{np.str_('John'): np.int64(1),\n",
       " np.str_('Mary'): np.int64(2),\n",
       " np.str_('also'): np.int64(1),\n",
       " np.str_('football'): np.int64(1),\n",
       " np.str_('games'): np.int64(1),\n",
       " np.str_('likes'): np.int64(3),\n",
       " np.str_('movies'): np.int64(2),\n",
       " np.str_('to'): np.int64(2),\n",
       " np.str_('too'): np.int64(1),\n",
       " np.str_('watch'): np.int64(2)}"
      ]
     },
     "execution_count": 4,
     "metadata": {},
     "output_type": "execute_result"
    }
   ],
   "source": [
    "#딕셔너리 TF 생성\n",
    "word_to_cnt = {}\n",
    "for word, cnt in zip(*word_count):\n",
    "  word_to_cnt[word] = cnt\n",
    "  \n",
    "word_to_cnt"
   ]
  },
  {
   "cell_type": "code",
   "execution_count": 5,
   "id": "f74886dc",
   "metadata": {},
   "outputs": [
    {
     "data": {
      "text/plain": [
       "np.int64(2)"
      ]
     },
     "execution_count": 5,
     "metadata": {},
     "output_type": "execute_result"
    }
   ],
   "source": [
    "word_to_cnt['movies']"
   ]
  },
  {
   "cell_type": "code",
   "execution_count": null,
   "id": "9d552eae",
   "metadata": {},
   "outputs": [],
   "source": [
    "!pip install scikit-learn pandas"
   ]
  },
  {
   "cell_type": "code",
   "execution_count": 7,
   "id": "242b2dd3",
   "metadata": {},
   "outputs": [],
   "source": [
    "corpus = [\n",
    "    \"John likes to watch movies. Mary likes movies too.\",\n",
    "    \"Mary also likes to watch football games.\"\n",
    "]"
   ]
  },
  {
   "cell_type": "markdown",
   "id": "b24e5409",
   "metadata": {},
   "source": [
    "# TDM"
   ]
  },
  {
   "cell_type": "code",
   "execution_count": 8,
   "id": "4974b06c",
   "metadata": {},
   "outputs": [
    {
     "data": {
      "text/plain": [
       "array([[0, 0, 0, 1, 2, 1, 2, 1, 1, 1],\n",
       "       [1, 1, 1, 0, 1, 1, 0, 1, 0, 1]])"
      ]
     },
     "execution_count": 8,
     "metadata": {},
     "output_type": "execute_result"
    }
   ],
   "source": [
    "from sklearn.feature_extraction.text import CountVectorizer\n",
    "vector = CountVectorizer()\n",
    "dtm_array = vector.fit_transform(corpus).toarray()\n",
    "dtm_array"
   ]
  },
  {
   "cell_type": "code",
   "execution_count": 10,
   "id": "690b80d3",
   "metadata": {},
   "outputs": [
    {
     "name": "stdout",
     "output_type": "stream",
     "text": [
      "{'john': 3, 'likes': 4, 'to': 7, 'watch': 9, 'movies': 6, 'mary': 5, 'too': 8, 'also': 0, 'football': 1, 'games': 2}\n"
     ]
    }
   ],
   "source": [
    "print(vector.vocabulary_)"
   ]
  },
  {
   "cell_type": "code",
   "execution_count": null,
   "id": "750260e0",
   "metadata": {},
   "outputs": [],
   "source": []
  }
 ],
 "metadata": {
  "kernelspec": {
   "display_name": "tf_cuda_env",
   "language": "python",
   "name": "python3"
  },
  "language_info": {
   "codemirror_mode": {
    "name": "ipython",
    "version": 3
   },
   "file_extension": ".py",
   "mimetype": "text/x-python",
   "name": "python",
   "nbconvert_exporter": "python",
   "pygments_lexer": "ipython3",
   "version": "3.10.18"
  }
 },
 "nbformat": 4,
 "nbformat_minor": 5
}
