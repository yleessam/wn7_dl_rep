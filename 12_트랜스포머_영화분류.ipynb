{
 "cells": [
  {
   "cell_type": "markdown",
   "id": "1b8886a4",
   "metadata": {},
   "source": [
    "IMDB 영화평데이터 > 감성분류를 위한 트랜스포머 아키텍처 모델 구축\n",
    "\n",
    "1. 정수토큰 시퀀스(길이80)입력\n",
    "2. 토큰임베딩 + 위치임베딩\n",
    "3. 멀티헤드어텐션 3헤드\n",
    "4. concate+정규화\n",
    "5. FFN (Dense+Dense)\n",
    "6. concat+정규화\n",
    "7. 분류기 (Dense)"
   ]
  },
  {
   "cell_type": "markdown",
   "id": "61dfefd5",
   "metadata": {},
   "source": [
    "# 1. 정수토큰 시퀀스(길이80)입력"
   ]
  },
  {
   "cell_type": "code",
   "execution_count": 1,
   "id": "0545811a",
   "metadata": {},
   "outputs": [
    {
     "name": "stderr",
     "output_type": "stream",
     "text": [
      "2025-09-05 11:48:39.724966: I tensorflow/core/platform/cpu_feature_guard.cc:210] This TensorFlow binary is optimized to use available CPU instructions in performance-critical operations.\n",
      "To enable the following instructions: AVX2 FMA, in other operations, rebuild TensorFlow with the appropriate compiler flags.\n"
     ]
    }
   ],
   "source": [
    "import tensorflow as tf\n",
    "from tensorflow.keras import Model, layers"
   ]
  },
  {
   "cell_type": "code",
   "execution_count": null,
   "id": "f707ab07",
   "metadata": {},
   "outputs": [
    {
     "name": "stderr",
     "output_type": "stream",
     "text": [
      "WARNING: All log messages before absl::InitializeLog() is called are written to STDERR\n",
      "I0000 00:00:1757040664.628812  201308 gpu_device.cc:2020] Created device /job:localhost/replica:0/task:0/device:GPU:0 with 4459 MB memory:  -> device: 0, name: NVIDIA GeForce RTX 4060 Laptop GPU, pci bus id: 0000:01:00.0, compute capability: 8.9\n"
     ]
    }
   ],
   "source": [
    "# 토큰 임베딩\n",
    "inputs = layers.Input(shape=(80,))\n",
    "input_embedding = layers.Embedding(input_dim=1000, output_dim=32)(inputs)"
   ]
  },
  {
   "cell_type": "markdown",
   "id": "9cb4226d",
   "metadata": {},
   "source": [
    "# 2. 토큰임베딩 + 위치임베딩"
   ]
  },
  {
   "cell_type": "code",
   "execution_count": 3,
   "id": "a779f80c",
   "metadata": {},
   "outputs": [],
   "source": [
    "# 위치임베딩\n",
    "positions = tf.range(start=0, limit=80)\n",
    "pos_embedding = layers.Embedding(input_dim=80, output_dim=32)(positions)\n",
    "pos_enc_output = pos_embedding + input_embedding"
   ]
  },
  {
   "cell_type": "markdown",
   "id": "a329672b",
   "metadata": {},
   "source": [
    "# 3. 멀티헤드어텐션 3헤드"
   ]
  },
  {
   "cell_type": "code",
   "execution_count": null,
   "id": "d059ece7",
   "metadata": {},
   "outputs": [],
   "source": [
    "attention_output = layers.MultiHeadAttention(num_heads=3, key_dim=32)(pos_enc_output, pos_enc_output) #K,V"
   ]
  },
  {
   "cell_type": "markdown",
   "id": "6e3d1f22",
   "metadata": {},
   "source": [
    "# 4. concate+정규화"
   ]
  },
  {
   "cell_type": "code",
   "execution_count": 6,
   "id": "1dbb73d9",
   "metadata": {},
   "outputs": [],
   "source": [
    "x = layers.add([pos_enc_output, attention_output])\n",
    "x = layers.BatchNormalization()(x)"
   ]
  },
  {
   "cell_type": "markdown",
   "id": "017057fb",
   "metadata": {},
   "source": [
    "# 5. FFN (Dense+Dense)\n",
    "# 6. concat+정규화"
   ]
  },
  {
   "cell_type": "code",
   "execution_count": 8,
   "id": "787d3965",
   "metadata": {},
   "outputs": [],
   "source": [
    "from tensorflow.keras.models import Sequential\n",
    "ffnn = Sequential(\n",
    "  [\n",
    "    layers.Dense(64,activation='relu'),\n",
    "    layers.Dense(32, activation='relu')\n",
    "  ]\n",
    ")(x)\n",
    "x = layers.add([ffnn, x])\n",
    "x = layers.BatchNormalization()(x)"
   ]
  },
  {
   "cell_type": "markdown",
   "id": "9fff2cda",
   "metadata": {},
   "source": [
    "# 7. 분류기 (Dense)"
   ]
  },
  {
   "cell_type": "code",
   "execution_count": null,
   "id": "23294e58",
   "metadata": {},
   "outputs": [],
   "source": []
  }
 ],
 "metadata": {
  "kernelspec": {
   "display_name": "tf_cuda_env",
   "language": "python",
   "name": "python3"
  },
  "language_info": {
   "codemirror_mode": {
    "name": "ipython",
    "version": 3
   },
   "file_extension": ".py",
   "mimetype": "text/x-python",
   "name": "python",
   "nbconvert_exporter": "python",
   "pygments_lexer": "ipython3",
   "version": "3.10.18"
  }
 },
 "nbformat": 4,
 "nbformat_minor": 5
}
