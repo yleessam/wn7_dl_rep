{
 "cells": [
  {
   "cell_type": "code",
   "execution_count": null,
   "id": "0c2da14f",
   "metadata": {},
   "outputs": [],
   "source": [
    "# 다운로드한 mnist dataset 을 이용해 욜로 v8 모델을 만듭니다. 성능 기록\n",
    "# 팀원의 데이터를 합쳐서 두번째 버전을 만듭니다. 성능 기록\n",
    "# tune()을 이용해 최적의 파라미터를 찾습니다.  성능 기록"
   ]
  },
  {
   "cell_type": "code",
   "execution_count": null,
   "id": "d58dc877",
   "metadata": {},
   "outputs": [],
   "source": []
  }
 ],
 "metadata": {
  "language_info": {
   "name": "python"
  }
 },
 "nbformat": 4,
 "nbformat_minor": 5
}
