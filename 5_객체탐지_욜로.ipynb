{
 "cells": [
  {
   "cell_type": "markdown",
   "id": "6d2edf3e",
   "metadata": {},
   "source": [
    "# 객체감지 "
   ]
  },
  {
   "cell_type": "code",
   "execution_count": 1,
   "id": "6031018d",
   "metadata": {},
   "outputs": [
    {
     "name": "stderr",
     "output_type": "stream",
     "text": [
      "Downloading https://github.com/ultralytics/assets/releases/download/v8.3.0/yolov8n.pt to 'yolov8n.pt': 100%|██████████| 6.25M/6.25M [00:00<00:00, 22.1MB/s]\n"
     ]
    },
    {
     "name": "stdout",
     "output_type": "stream",
     "text": [
      "\n",
      "image 1/1 c:\\githome\\wn7_dl_rep\\sample.png: 480x640 3 persons, 32.8ms\n",
      "Speed: 2.0ms preprocess, 32.8ms inference, 71.2ms postprocess per image at shape (1, 3, 480, 640)\n"
     ]
    },
    {
     "data": {
      "text/plain": [
       "[ultralytics.engine.results.Results object with attributes:\n",
       " \n",
       " boxes: ultralytics.engine.results.Boxes object\n",
       " keypoints: None\n",
       " masks: None\n",
       " names: {0: 'person', 1: 'bicycle', 2: 'car', 3: 'motorcycle', 4: 'airplane', 5: 'bus', 6: 'train', 7: 'truck', 8: 'boat', 9: 'traffic light', 10: 'fire hydrant', 11: 'stop sign', 12: 'parking meter', 13: 'bench', 14: 'bird', 15: 'cat', 16: 'dog', 17: 'horse', 18: 'sheep', 19: 'cow', 20: 'elephant', 21: 'bear', 22: 'zebra', 23: 'giraffe', 24: 'backpack', 25: 'umbrella', 26: 'handbag', 27: 'tie', 28: 'suitcase', 29: 'frisbee', 30: 'skis', 31: 'snowboard', 32: 'sports ball', 33: 'kite', 34: 'baseball bat', 35: 'baseball glove', 36: 'skateboard', 37: 'surfboard', 38: 'tennis racket', 39: 'bottle', 40: 'wine glass', 41: 'cup', 42: 'fork', 43: 'knife', 44: 'spoon', 45: 'bowl', 46: 'banana', 47: 'apple', 48: 'sandwich', 49: 'orange', 50: 'broccoli', 51: 'carrot', 52: 'hot dog', 53: 'pizza', 54: 'donut', 55: 'cake', 56: 'chair', 57: 'couch', 58: 'potted plant', 59: 'bed', 60: 'dining table', 61: 'toilet', 62: 'tv', 63: 'laptop', 64: 'mouse', 65: 'remote', 66: 'keyboard', 67: 'cell phone', 68: 'microwave', 69: 'oven', 70: 'toaster', 71: 'sink', 72: 'refrigerator', 73: 'book', 74: 'clock', 75: 'vase', 76: 'scissors', 77: 'teddy bear', 78: 'hair drier', 79: 'toothbrush'}\n",
       " obb: None\n",
       " orig_img: array([[[255, 255, 255],\n",
       "         [255, 255, 255],\n",
       "         [255, 255, 255],\n",
       "         ...,\n",
       "         [255, 255, 255],\n",
       "         [255, 255, 255],\n",
       "         [255, 255, 255]],\n",
       " \n",
       "        [[255, 255, 255],\n",
       "         [255, 255, 255],\n",
       "         [255, 255, 255],\n",
       "         ...,\n",
       "         [255, 255, 255],\n",
       "         [255, 255, 255],\n",
       "         [255, 255, 255]],\n",
       " \n",
       "        [[255, 255, 255],\n",
       "         [255, 255, 255],\n",
       "         [255, 255, 255],\n",
       "         ...,\n",
       "         [255, 255, 255],\n",
       "         [255, 255, 255],\n",
       "         [255, 255, 255]],\n",
       " \n",
       "        ...,\n",
       " \n",
       "        [[255, 255, 255],\n",
       "         [255, 255, 255],\n",
       "         [255, 255, 255],\n",
       "         ...,\n",
       "         [255, 255, 255],\n",
       "         [255, 255, 255],\n",
       "         [255, 255, 255]],\n",
       " \n",
       "        [[255, 255, 255],\n",
       "         [255, 255, 255],\n",
       "         [255, 255, 255],\n",
       "         ...,\n",
       "         [255, 255, 255],\n",
       "         [255, 255, 255],\n",
       "         [255, 255, 255]],\n",
       " \n",
       "        [[255, 255, 255],\n",
       "         [255, 255, 255],\n",
       "         [255, 255, 255],\n",
       "         ...,\n",
       "         [255, 255, 255],\n",
       "         [255, 255, 255],\n",
       "         [255, 255, 255]]], dtype=uint8)\n",
       " orig_shape: (568, 761)\n",
       " path: 'c:\\\\githome\\\\wn7_dl_rep\\\\sample.png'\n",
       " probs: None\n",
       " save_dir: 'runs\\\\detect\\\\predict'\n",
       " speed: {'preprocess': 1.955099985934794, 'inference': 32.84380002878606, 'postprocess': 71.20590005069971}]"
      ]
     },
     "execution_count": 1,
     "metadata": {},
     "output_type": "execute_result"
    }
   ],
   "source": [
    "from ultralytics import YOLO\n",
    "\n",
    "model = YOLO('yolov8n.pt')\n",
    "result  = model('sample.png')\n",
    "result\n"
   ]
  },
  {
   "cell_type": "code",
   "execution_count": 8,
   "id": "a181a6e0",
   "metadata": {},
   "outputs": [
    {
     "name": "stdout",
     "output_type": "stream",
     "text": [
      "\n",
      "image 1/1 c:\\githome\\wn7_dl_rep\\dog.jpg: 416x640 3 dogs, 168.9ms\n",
      "Speed: 9.8ms preprocess, 168.9ms inference, 16.1ms postprocess per image at shape (1, 3, 416, 640)\n"
     ]
    },
    {
     "data": {
      "text/plain": [
       "tensor(0.9578, device='cuda:0')"
      ]
     },
     "execution_count": 8,
     "metadata": {},
     "output_type": "execute_result"
    }
   ],
   "source": [
    "# 바운딩박스, 라벨 출력\n",
    "result  = model('dog.jpg')\n",
    "result[0].boxes[0].conf[0]"
   ]
  },
  {
   "cell_type": "code",
   "execution_count": 16,
   "id": "87a0ad89",
   "metadata": {},
   "outputs": [
    {
     "data": {
      "text/plain": [
       "array([[[  0,   0,   0],\n",
       "        [  0,   0,   0],\n",
       "        [  0,   0,   0],\n",
       "        ...,\n",
       "        [  0,   0,   0],\n",
       "        [  0,   0,   0],\n",
       "        [  0,   0,   0]],\n",
       "\n",
       "       [[  0,   0,   0],\n",
       "        [  0,   0,   0],\n",
       "        [  0,   0,   0],\n",
       "        ...,\n",
       "        [  0,   0,   0],\n",
       "        [  0,   0,   0],\n",
       "        [  0,   0,   0]],\n",
       "\n",
       "       [[  0,   0,   0],\n",
       "        [  0,   0,   0],\n",
       "        [  0,   0,   0],\n",
       "        ...,\n",
       "        [  0,   0,   0],\n",
       "        [  0,   0,   0],\n",
       "        [  0,   0,   0]],\n",
       "\n",
       "       ...,\n",
       "\n",
       "       [[  0,   0,   0],\n",
       "        [  0,   0,   0],\n",
       "        [  0,   0,   0],\n",
       "        ...,\n",
       "        [255, 255, 255],\n",
       "        [255, 255, 255],\n",
       "        [255, 255, 255]],\n",
       "\n",
       "       [[  0,   0,   0],\n",
       "        [  0,   0,   0],\n",
       "        [  0,   0,   0],\n",
       "        ...,\n",
       "        [255, 255, 255],\n",
       "        [255, 255, 255],\n",
       "        [255, 255, 255]],\n",
       "\n",
       "       [[  0,   0,   0],\n",
       "        [  0,   0,   0],\n",
       "        [  0,   0,   0],\n",
       "        ...,\n",
       "        [255, 255, 255],\n",
       "        [255, 255, 255],\n",
       "        [255, 255, 255]]], dtype=uint8)"
      ]
     },
     "execution_count": 16,
     "metadata": {},
     "output_type": "execute_result"
    }
   ],
   "source": [
    "import cv2\n",
    "img = cv2.imread('image.png')\n",
    "img"
   ]
  },
  {
   "cell_type": "code",
   "execution_count": 17,
   "id": "54148659",
   "metadata": {},
   "outputs": [
    {
     "data": {
      "text/plain": [
       "True"
      ]
     },
     "execution_count": 17,
     "metadata": {},
     "output_type": "execute_result"
    }
   ],
   "source": [
    "for box in result[0].boxes:\n",
    "  class_id = box.cls[0]\n",
    "  class_name = model.names[class_id.item()]\n",
    "  \n",
    "  #신뢰도점수\n",
    "  conf = float(box.conf[0])\n",
    "  \n",
    "  #바운딩 박스\n",
    "  coords = box.xyxy[0].tolist()\n",
    "  x1,y1,x2,y2 = map(int, coords)\n",
    "  cv2.rectangle(img, (x1,y1), (x2,y2), (0,255,0), 2)\n",
    "  cv2.putText(img, f'{class_name} {conf:.4f}'\n",
    "              , (x1,y1-10), cv2.FONT_HERSHEY_PLAIN\n",
    "              , 1, (0,255,0),1)\n",
    "  \n",
    "# end-for\n",
    "\n",
    "cv2.imshow('yolov8 object detection', img)\n",
    "cv2.waitKey(0)\n",
    "cv2.destroyAllWindows()\n",
    "cv2.imwrite('detect_result.jpg', img)"
   ]
  },
  {
   "cell_type": "markdown",
   "id": "8c1a508f",
   "metadata": {},
   "source": [
    "# segmentation"
   ]
  },
  {
   "cell_type": "code",
   "execution_count": 22,
   "id": "cf7a153f",
   "metadata": {},
   "outputs": [
    {
     "name": "stdout",
     "output_type": "stream",
     "text": [
      "\n",
      "image 1/1 c:\\githome\\wn7_dl_rep\\bus.jpg: 640x480 4 persons, 1 bus, 1 skateboard, 6.1ms\n",
      "Speed: 1.5ms preprocess, 6.1ms inference, 3.1ms postprocess per image at shape (1, 3, 640, 480)\n"
     ]
    },
    {
     "data": {
      "text/plain": [
       "ultralytics.engine.results.Results object with attributes:\n",
       "\n",
       "boxes: ultralytics.engine.results.Boxes object\n",
       "keypoints: None\n",
       "masks: ultralytics.engine.results.Masks object\n",
       "names: {0: 'person', 1: 'bicycle', 2: 'car', 3: 'motorcycle', 4: 'airplane', 5: 'bus', 6: 'train', 7: 'truck', 8: 'boat', 9: 'traffic light', 10: 'fire hydrant', 11: 'stop sign', 12: 'parking meter', 13: 'bench', 14: 'bird', 15: 'cat', 16: 'dog', 17: 'horse', 18: 'sheep', 19: 'cow', 20: 'elephant', 21: 'bear', 22: 'zebra', 23: 'giraffe', 24: 'backpack', 25: 'umbrella', 26: 'handbag', 27: 'tie', 28: 'suitcase', 29: 'frisbee', 30: 'skis', 31: 'snowboard', 32: 'sports ball', 33: 'kite', 34: 'baseball bat', 35: 'baseball glove', 36: 'skateboard', 37: 'surfboard', 38: 'tennis racket', 39: 'bottle', 40: 'wine glass', 41: 'cup', 42: 'fork', 43: 'knife', 44: 'spoon', 45: 'bowl', 46: 'banana', 47: 'apple', 48: 'sandwich', 49: 'orange', 50: 'broccoli', 51: 'carrot', 52: 'hot dog', 53: 'pizza', 54: 'donut', 55: 'cake', 56: 'chair', 57: 'couch', 58: 'potted plant', 59: 'bed', 60: 'dining table', 61: 'toilet', 62: 'tv', 63: 'laptop', 64: 'mouse', 65: 'remote', 66: 'keyboard', 67: 'cell phone', 68: 'microwave', 69: 'oven', 70: 'toaster', 71: 'sink', 72: 'refrigerator', 73: 'book', 74: 'clock', 75: 'vase', 76: 'scissors', 77: 'teddy bear', 78: 'hair drier', 79: 'toothbrush'}\n",
       "obb: None\n",
       "orig_img: array([[[119, 146, 172],\n",
       "        [121, 148, 174],\n",
       "        [122, 152, 177],\n",
       "        ...,\n",
       "        [161, 171, 188],\n",
       "        [160, 170, 187],\n",
       "        [160, 170, 187]],\n",
       "\n",
       "       [[120, 147, 173],\n",
       "        [122, 149, 175],\n",
       "        [123, 153, 178],\n",
       "        ...,\n",
       "        [161, 171, 188],\n",
       "        [160, 170, 187],\n",
       "        [160, 170, 187]],\n",
       "\n",
       "       [[123, 150, 176],\n",
       "        [124, 151, 177],\n",
       "        [125, 155, 180],\n",
       "        ...,\n",
       "        [161, 171, 188],\n",
       "        [160, 170, 187],\n",
       "        [160, 170, 187]],\n",
       "\n",
       "       ...,\n",
       "\n",
       "       [[183, 182, 186],\n",
       "        [179, 178, 182],\n",
       "        [180, 179, 183],\n",
       "        ...,\n",
       "        [121, 111, 117],\n",
       "        [113, 103, 109],\n",
       "        [115, 105, 111]],\n",
       "\n",
       "       [[165, 164, 168],\n",
       "        [173, 172, 176],\n",
       "        [187, 186, 190],\n",
       "        ...,\n",
       "        [102,  92,  98],\n",
       "        [101,  91,  97],\n",
       "        [103,  93,  99]],\n",
       "\n",
       "       [[123, 122, 126],\n",
       "        [145, 144, 148],\n",
       "        [176, 175, 179],\n",
       "        ...,\n",
       "        [ 95,  85,  91],\n",
       "        [ 96,  86,  92],\n",
       "        [ 98,  88,  94]]], dtype=uint8)\n",
       "orig_shape: (1080, 810)\n",
       "path: 'c:\\\\githome\\\\wn7_dl_rep\\\\bus.jpg'\n",
       "probs: None\n",
       "save_dir: 'runs\\\\segment\\\\predict'\n",
       "speed: {'preprocess': 1.5082999598234892, 'inference': 6.068199989385903, 'postprocess': 3.1214000191539526}"
      ]
     },
     "execution_count": 22,
     "metadata": {},
     "output_type": "execute_result"
    }
   ],
   "source": [
    "from ultralytics import YOLO\n",
    "\n",
    "model = YOLO('yolov8n-seg.pt')\n",
    "result  = model('bus.jpg')\n",
    "result[0]"
   ]
  },
  {
   "cell_type": "code",
   "execution_count": null,
   "id": "4cbc21c1",
   "metadata": {},
   "outputs": [
    {
     "data": {
      "text/plain": [
       "True"
      ]
     },
     "execution_count": 27,
     "metadata": {},
     "output_type": "execute_result"
    }
   ],
   "source": [
    "import numpy as np\n",
    "\n",
    "img_new = cv2.imread('bus.jpg')\n",
    "overlay = img_new.copy() #마스크용\n",
    "\n",
    "for box, mask in zip(result[0].boxes, result[0].masks):\n",
    "  #마스크\n",
    "  polygon = mask.xy[0].astype(np.int32)\n",
    "  cv2.fillPoly(overlay, [polygon],(0,255,0))\n",
    "  \n",
    "  class_id = box.cls[0]\n",
    "  class_name = model.names[class_id.item()]\n",
    "  \n",
    "  #신뢰도점수\n",
    "  conf = float(box.conf[0])\n",
    "  \n",
    "  #바운딩 박스\n",
    "  coords = box.xyxy[0].tolist()\n",
    "  x1,y1,x2,y2 = map(int, coords)\n",
    "  cv2.rectangle(img_new, (x1,y1), (x2,y2), (0,255,0), 2)\n",
    "  cv2.putText(img_new, f'{class_name} {conf:.4f}'\n",
    "              , (x1,y1-10), cv2.FONT_HERSHEY_PLAIN\n",
    "              , 1, (0,255,0),1)\n",
    "\n",
    "#img+overlay 겹쳐서 출력\n",
    "alpha = 0.5\n",
    "final_img = cv2.addWeighted(overlay,alpha, img_new, 1-alpha, 0)\n",
    "\n",
    "#최종출력  \n",
    "cv2.imshow('yolov8 object segmentation', final_img)\n",
    "cv2.waitKey(0)\n",
    "cv2.destroyAllWindows()\n",
    "cv2.imwrite('detect_result.jpg', final_img)"
   ]
  },
  {
   "cell_type": "markdown",
   "id": "9a96c21a",
   "metadata": {},
   "source": [
    "# 분류 (생략)\n",
    "# 자세"
   ]
  },
  {
   "cell_type": "code",
   "execution_count": 30,
   "id": "07c5b1e7",
   "metadata": {},
   "outputs": [
    {
     "name": "stdout",
     "output_type": "stream",
     "text": [
      "\n",
      "image 1/1 c:\\githome\\wn7_dl_rep\\people.jpg: 640x288 1 person, 4.6ms\n",
      "Speed: 1.0ms preprocess, 4.6ms inference, 1.3ms postprocess per image at shape (1, 3, 640, 288)\n"
     ]
    },
    {
     "data": {
      "text/plain": [
       "True"
      ]
     },
     "execution_count": 30,
     "metadata": {},
     "output_type": "execute_result"
    }
   ],
   "source": [
    "pose_model = YOLO('yolov8n-pose.pt')\n",
    "pose_result  = pose_model('people.jpg')\n",
    "img = cv2.imread('people.jpg')\n",
    "\n",
    "kp = pose_result[0].keypoints\n",
    "\n",
    "for man_kp in kp:\n",
    "  for x,y in man_kp.xy[0] :\n",
    "    if x>0 and y>0:\n",
    "      cv2.circle(img, (int(x), int(y)), 3, (255,0,0), -1)\n",
    "      \n",
    "cv2.imshow('yolov8  pose estimation', img)\n",
    "cv2.waitKey(0)\n",
    "cv2.destroyAllWindows()\n",
    "cv2.imwrite('pose_result.jpg', img)"
   ]
  }
 ],
 "metadata": {
  "kernelspec": {
   "display_name": "dl_llm_env",
   "language": "python",
   "name": "python3"
  },
  "language_info": {
   "codemirror_mode": {
    "name": "ipython",
    "version": 3
   },
   "file_extension": ".py",
   "mimetype": "text/x-python",
   "name": "python",
   "nbconvert_exporter": "python",
   "pygments_lexer": "ipython3",
   "version": "3.10.18"
  }
 },
 "nbformat": 4,
 "nbformat_minor": 5
}
